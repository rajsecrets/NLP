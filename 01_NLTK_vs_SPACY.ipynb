{
  "nbformat": 4,
  "nbformat_minor": 0,
  "metadata": {
    "colab": {
      "provenance": [],
      "authorship_tag": "ABX9TyNCJdAognA/IS2MKcOhjaOD",
      "include_colab_link": true
    },
    "kernelspec": {
      "name": "python3",
      "display_name": "Python 3"
    },
    "language_info": {
      "name": "python"
    }
  },
  "cells": [
    {
      "cell_type": "markdown",
      "metadata": {
        "id": "view-in-github",
        "colab_type": "text"
      },
      "source": [
        "<a href=\"https://colab.research.google.com/github/rajsecrets01/NLP/blob/main/01_NLTK_vs_SPACY.ipynb\" target=\"_parent\"><img src=\"https://colab.research.google.com/assets/colab-badge.svg\" alt=\"Open In Colab\"/></a>"
      ]
    },
    {
      "cell_type": "code",
      "execution_count": null,
      "metadata": {
        "id": "F4_mRQvvb1iz"
      },
      "outputs": [],
      "source": [
        "import spacy\n",
        "\n",
        "nlp = spacy.load(\"en_core_web_sm\")\n"
      ]
    },
    {
      "cell_type": "code",
      "source": [
        "doc = nlp(\"hey Dr. i m a man and the hulk . com is a man also . but he is quite bigger and stronger\")"
      ],
      "metadata": {
        "id": "JJZJ0Axhci1R"
      },
      "execution_count": 9,
      "outputs": []
    },
    {
      "cell_type": "markdown",
      "source": [
        "sentence tokenisation"
      ],
      "metadata": {
        "id": "kacwARKbedjC"
      }
    },
    {
      "cell_type": "code",
      "source": [
        "for sentence in doc.sents:\n",
        "  print(sentence)"
      ],
      "metadata": {
        "colab": {
          "base_uri": "https://localhost:8080/"
        },
        "id": "RwK2Oj-Icy-y",
        "outputId": "179e3b90-1d27-4973-df13-42735eee5c53"
      },
      "execution_count": 10,
      "outputs": [
        {
          "output_type": "stream",
          "name": "stdout",
          "text": [
            "hey Dr. i m a man and the hulk .\n",
            "com is a man also .\n",
            "but he is quite bigger and stronger\n"
          ]
        }
      ]
    },
    {
      "cell_type": "code",
      "source": [
        "for sentence in doc.sents:\n",
        "  for word in sentence:\n",
        "    print(word)"
      ],
      "metadata": {
        "id": "fSzi5BiRd1Rk",
        "colab": {
          "base_uri": "https://localhost:8080/"
        },
        "outputId": "ef610c56-3870-4f26-c702-8605f632cc70"
      },
      "execution_count": 11,
      "outputs": [
        {
          "output_type": "stream",
          "name": "stdout",
          "text": [
            "hey\n",
            "Dr.\n",
            "i\n",
            "m\n",
            "a\n",
            "man\n",
            "and\n",
            "the\n",
            "hulk\n",
            ".\n",
            "com\n",
            "is\n",
            "a\n",
            "man\n",
            "also\n",
            ".\n",
            "but\n",
            "he\n",
            "is\n",
            "quite\n",
            "bigger\n",
            "and\n",
            "stronger\n"
          ]
        }
      ]
    },
    {
      "cell_type": "code",
      "source": [],
      "metadata": {
        "id": "d_BdJnG1gA3V"
      },
      "execution_count": null,
      "outputs": []
    }
  ]
}